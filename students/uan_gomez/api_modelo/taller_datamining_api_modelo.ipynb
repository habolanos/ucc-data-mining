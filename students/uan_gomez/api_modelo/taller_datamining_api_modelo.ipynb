{
 "cells": [
  {
   "cell_type": "markdown",
   "metadata": {},
   "source": [
    "# Taller Dataminig – API Modelo Machine Learning\n",
    "Vamos a construir un modelo que pueda predecir el próximo crimen y su ubicación utilizando el archivo  data. csv proporcionado. Luego, crearemos una API utilizando FastAPI para exponer este modelo, utilizando la estructura a continuación:\n",
    "\n",
    "CASE#,DATE OF OCCURRENCE,BLOCK, IUCR, PRIMARY DESCRIPTION, SECONDARY DESCRIPTION, LOCATION DESCRIPTION,ARREST,DOMESTIC,BEAT,WARD,FBI CD,X COORDINATE,Y COORDINATE,LATITUDE,LONGITUDE,LOCATION\n",
    "JG406115,08/31/2023 07:00:00 PM,042XX W MARQUETTE RD,0498,BATTERY,\"AGG. DOMESTIC BATTERY - HANDS, FISTS, FEET, SERIOUS INJURY\",APARTMENT,Y,Y,833,23,04B,1149062,1859830,41.771296232,-87.729149311,\"(41.771296232, -87.729149311)\".\n",
    "\n",
    "Archivo de datos en repo ucc-datamining: ucc-data-mining/taller-api-dl/data.csv"
   ]
  },
  {
   "cell_type": "markdown",
   "metadata": {},
   "source": [
    "## Paso 1: Preprocesamiento de Datos y Entrenamiento del Modelo\n",
    "Aquí está el código para cargar los datos, preprocesarlos y entrenar un modelo de predicción utilizando Scikit-Learn:"
   ]
  },
  {
   "cell_type": "code",
   "execution_count": 1,
   "metadata": {
    "metadata": {}
   },
   "outputs": [],
   "source": [
    "import pandas as pd\n",
    "from sklearn.model_selection import train_test_split\n",
    "from sklearn.ensemble import RandomForestClassifier\n",
    "from sklearn.metrics import accuracy_score\n",
    "import joblib\n",
    "# Paso 1: Cargar los datos\n",
    "data = pd.read_csv('/home/jovyan/work/data1.csv')\n",
    "# Paso 2: Preprocesamiento de datos\n",
    "# Eliminar columnas innecesarias o que no sean útiles para la predicción\n",
    "data = data.drop(columns=['CASE#', 'FBI CD', 'X COORDINATE', 'Y COORDINATE', 'LATITUDE', \n",
    "'LONGITUDE', 'LOCATION'])\n",
    "\n",
    "\n",
    "# Dividir los datos en características (X) y etiquetas (y)\n",
    "X = data.drop(columns=['PRIMARY DESCRIPTION', 'DATE OF OCCURRENCE'])\n",
    "y = data['PRIMARY DESCRIPTION']\n",
    "\n"
   ]
  },
  {
   "cell_type": "code",
   "execution_count": 2,
   "metadata": {},
   "outputs": [
    {
     "name": "stdout",
     "output_type": "stream",
     "text": [
      "Index(['DATE OF OCCURRENCE', 'BLOCK', ' IUCR', 'PRIMARY DESCRIPTION',\n",
      "       'SECONDARY DESCRIPTION', 'LOCATION DESCRIPTION', 'ARREST', 'DOMESTIC',\n",
      "       'BEAT', 'WARD'],\n",
      "      dtype='object')\n",
      "       DATE OF OCCURRENCE                                BLOCK  IUCR  \\\n",
      "0  08/31/2023 07:00:00 PM                 042XX W MARQUETTE RD  0498   \n",
      "1  09/15/2023 11:20:00 PM                      010XX W 84TH ST  0486   \n",
      "2  08/31/2023 09:13:00 PM                   093XX S WABASH AVE  0910   \n",
      "3  09/15/2023 06:00:00 PM  057XX S DR MARTIN LUTHER KING JR DR  1320   \n",
      "4  03/07/2024 01:50:00 AM                    059XX W FULTON ST  0486   \n",
      "\n",
      "   PRIMARY DESCRIPTION                              SECONDARY DESCRIPTION  \\\n",
      "0              BATTERY  AGG. DOMESTIC BATTERY - HANDS, FISTS, FEET, SE...   \n",
      "1              BATTERY                            DOMESTIC BATTERY SIMPLE   \n",
      "2  MOTOR VEHICLE THEFT                                         AUTOMOBILE   \n",
      "3      CRIMINAL DAMAGE                                         TO VEHICLE   \n",
      "4              BATTERY                            DOMESTIC BATTERY SIMPLE   \n",
      "\n",
      "                     LOCATION DESCRIPTION ARREST DOMESTIC  BEAT  WARD  \n",
      "0                               APARTMENT      Y        Y   833    23  \n",
      "1                               APARTMENT      N        Y   613    17  \n",
      "2                                  STREET      N        N   634     6  \n",
      "3  PARKING LOT / GARAGE (NON RESIDENTIAL)      N        N   232    20  \n",
      "4                               APARTMENT      N        Y  1512    29  \n"
     ]
    }
   ],
   "source": [
    "print(data.columns)\n",
    "print(data.head())"
   ]
  },
  {
   "cell_type": "code",
   "execution_count": 3,
   "metadata": {
    "metadata": {}
   },
   "outputs": [],
   "source": [
    "# Codificar las variables categóricas\n",
    "# data = pd.get_dummies(data)\n",
    "# print(data.columns)\n",
    "# print(data.head())\n",
    "# Codificar las variables categóricas\n",
    "X = pd.get_dummies(X)"
   ]
  },
  {
   "cell_type": "code",
   "execution_count": 4,
   "metadata": {
    "metadata": {}
   },
   "outputs": [
    {
     "name": "stdout",
     "output_type": "stream",
     "text": [
      "Accuracy: 0.9871001031991744\n"
     ]
    },
    {
     "data": {
      "text/plain": [
       "['crime_prediction_model.pkl']"
      ]
     },
     "execution_count": 4,
     "metadata": {},
     "output_type": "execute_result"
    }
   ],
   "source": [
    "# Dividir los datos en conjuntos de entrenamiento y prueba\n",
    "X_train, X_test, y_train, y_test = train_test_split(X, y, test_size=0.2, random_state=42)\n",
    "\n",
    "# Entrenar el modelo\n",
    "model = RandomForestClassifier()\n",
    "model.fit(X_train, y_train)\n",
    "\n",
    "# Evaluar el modelo\n",
    "y_pred = model.predict(X_test)\n",
    "accuracy = accuracy_score(y_test, y_pred)\n",
    "print(\"Accuracy:\", accuracy)\n",
    "\n",
    "# Guardar el modelo entrenado\n",
    "joblib.dump(model, 'crime_prediction_model.pkl')"
   ]
  }
 ],
 "metadata": {
  "kernelspec": {
   "display_name": "Python 3 (ipykernel)",
   "language": "python",
   "name": "python3"
  },
  "language_info": {
   "codemirror_mode": {
    "name": "ipython",
    "version": 3
   },
   "file_extension": ".py",
   "mimetype": "text/x-python",
   "name": "python",
   "nbconvert_exporter": "python",
   "pygments_lexer": "ipython3",
   "version": "3.11.6"
  }
 },
 "nbformat": 4,
 "nbformat_minor": 4
}
