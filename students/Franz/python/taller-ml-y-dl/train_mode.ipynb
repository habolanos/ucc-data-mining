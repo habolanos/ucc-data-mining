{
 "cells": [
  {
   "cell_type": "code",
   "execution_count": 1,
   "id": "aafc608f-0aae-4943-90ad-a14e379059fd",
   "metadata": {},
   "outputs": [
    {
     "name": "stderr",
     "output_type": "stream",
     "text": [
      "/tmp/ipykernel_6073/1527506574.py:7: DtypeWarning: Columns (0) have mixed types. Specify dtype option on import or set low_memory=False.\n",
      "  data = pd.read_csv('data.csv')\n"
     ]
    }
   ],
   "source": [
    "import pandas as pd\n",
    "from sklearn.model_selection import train_test_split\n",
    "from sklearn.ensemble import RandomForestClassifier\n",
    "from sklearn.metrics import accuracy_score\n",
    "import joblib\n",
    "# Paso 1: Cargar los datos\n",
    "data = pd.read_csv('data.csv')\n",
    "# Paso 2: Preprocesamiento de datos\n",
    "# Eliminar columnas innecesarias o que no sean útiles para la predicción\n",
    "data = data.drop(columns=['CASE#', 'FBI CD', 'X COORDINATE', 'Y COORDINATE', 'LATITUDE', \n",
    "'LONGITUDE', 'LOCATION'])\n",
    "\n",
    "\n",
    "# Dividir los datos en características (X) y etiquetas (y)\n",
    "X = data.drop(columns=['DESCRIPTION', 'DATE OF OCCURRENCE'])\n",
    "y = data['DESCRIPTION']"
   ]
  },
  {
   "cell_type": "code",
   "execution_count": 2,
   "id": "6985934b-1153-4596-9503-63fc2dd0a14c",
   "metadata": {},
   "outputs": [
    {
     "name": "stdout",
     "output_type": "stream",
     "text": [
      "Index(['DATE OF OCCURRENCE', 'BLOCK', 'IUCR', 'DESCRIPTION',\n",
      "       'SECONDARY DESCRIPTION', 'LOCATION DESCRIPTION', 'ARREST', 'DOMESTIC',\n",
      "       'BEAT', 'WARD'],\n",
      "      dtype='object')\n",
      "       DATE OF OCCURRENCE                                BLOCK  IUCR  \\\n",
      "0  08/31/2023 07:00:00 PM                 042XX W MARQUETTE RD  0498   \n",
      "1  09/15/2023 11:20:00 PM                      010XX W 84TH ST  0486   \n",
      "2  08/31/2023 09:13:00 PM                   093XX S WABASH AVE  0910   \n",
      "3  09/15/2023 06:00:00 PM  057XX S DR MARTIN LUTHER KING JR DR  1320   \n",
      "4  03/07/2024 01:50:00 AM                    059XX W FULTON ST  0486   \n",
      "\n",
      "           DESCRIPTION                              SECONDARY DESCRIPTION  \\\n",
      "0              BATTERY  AGG. DOMESTIC BATTERY - HANDS, FISTS, FEET, SE...   \n",
      "1              BATTERY                            DOMESTIC BATTERY SIMPLE   \n",
      "2  MOTOR VEHICLE THEFT                                         AUTOMOBILE   \n",
      "3      CRIMINAL DAMAGE                                         TO VEHICLE   \n",
      "4              BATTERY                            DOMESTIC BATTERY SIMPLE   \n",
      "\n",
      "                     LOCATION DESCRIPTION ARREST DOMESTIC  BEAT  WARD  \n",
      "0                               APARTMENT      Y        Y   833  23.0  \n",
      "1                               APARTMENT      N        Y   613  17.0  \n",
      "2                                  STREET      N        N   634   6.0  \n",
      "3  PARKING LOT / GARAGE (NON RESIDENTIAL)      N        N   232  20.0  \n",
      "4                               APARTMENT      N        Y  1512  29.0  \n"
     ]
    }
   ],
   "source": [
    "print(data.columns)\n",
    "print(data.head())"
   ]
  },
  {
   "cell_type": "code",
   "execution_count": 4,
   "id": "e6499b84-ec99-491b-a669-d041837abd22",
   "metadata": {},
   "outputs": [],
   "source": [
    "# Codificar las variables categóricas\n",
    "# data = pd.get_dummies(data)\n",
    "# print(data.columns)\n",
    "# print(data.head())\n",
    "# Codificar las variables categóricas\n",
    "X = pd.get_dummies(y)"
   ]
  },
  {
   "cell_type": "code",
   "execution_count": 5,
   "id": "77cd2d82-e996-473b-b8f7-7471e18d02ee",
   "metadata": {},
   "outputs": [
    {
     "name": "stdout",
     "output_type": "stream",
     "text": [
      "Accuracy: 1.0\n"
     ]
    },
    {
     "data": {
      "text/plain": [
       "['crime_prediction_model.pkl']"
      ]
     },
     "execution_count": 5,
     "metadata": {},
     "output_type": "execute_result"
    }
   ],
   "source": [
    "# Dividir los datos en conjuntos de entrenamiento y prueba\n",
    "X_train, X_test, y_train, y_test = train_test_split(X, y, test_size=0.2, random_state=42)\n",
    "\n",
    "# Entrenar el modelo\n",
    "model = RandomForestClassifier()\n",
    "model.fit(X_train, y_train)\n",
    "\n",
    "# Evaluar el modelo\n",
    "y_pred = model.predict(X_test)\n",
    "accuracy = accuracy_score(y_test, y_pred)\n",
    "print(\"Accuracy:\", accuracy)\n",
    "\n",
    "# Guardar el modelo entrenado\n",
    "joblib.dump(model, 'crime_prediction_model.pkl')"
   ]
  },
  {
   "cell_type": "code",
   "execution_count": null,
   "id": "58212de5-1b90-43f5-83c6-76c2ad4af676",
   "metadata": {},
   "outputs": [],
   "source": [
    "pip install Scikit-Learn"
   ]
  },
  {
   "cell_type": "code",
   "execution_count": null,
   "id": "3c96dddd-b590-4d11-8568-346e0f34342d",
   "metadata": {},
   "outputs": [],
   "source": [
    "pip install pandas"
   ]
  },
  {
   "cell_type": "code",
   "execution_count": null,
   "id": "3476feed-166c-4b90-a42d-81a0cfc3c62a",
   "metadata": {},
   "outputs": [],
   "source": []
  }
 ],
 "metadata": {
  "kernelspec": {
   "display_name": "Python 3 (ipykernel)",
   "language": "python",
   "name": "python3"
  },
  "language_info": {
   "codemirror_mode": {
    "name": "ipython",
    "version": 3
   },
   "file_extension": ".py",
   "mimetype": "text/x-python",
   "name": "python",
   "nbconvert_exporter": "python",
   "pygments_lexer": "ipython3",
   "version": "3.11.6"
  }
 },
 "nbformat": 4,
 "nbformat_minor": 5
}
