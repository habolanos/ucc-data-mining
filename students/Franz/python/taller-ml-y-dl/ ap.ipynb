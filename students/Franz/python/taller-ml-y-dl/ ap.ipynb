{
 "cells": [
  {
   "cell_type": "code",
   "execution_count": null,
   "id": "40a37ab6-6794-430c-9e8c-ca25bd0cb95c",
   "metadata": {},
   "outputs": [],
   "source": [
    "from fastapi import FastAPI, HTTPException\n",
    "from pydantic import BaseModel\n",
    "import joblib\n",
    "import pandas as pd\n",
    "# Paso 1: Cargar el modelo entrenado\n",
    "model = joblib.load('crime_prediction_model.pkl')\n",
    "\n",
    "dataBase = pd.read_csv('data.csv')\n",
    "dataBase = dataBase.drop(columns=['CASE#', 'FBI CD', 'X COORDINATE', 'Y COORDINATE', 'LATITUDE', 'LONGITUDE', 'LOCATION'])\n",
    "X = dataBase.drop(columns=['DESCRIPTION', 'DATE OF OCCURRENCE'])\n",
    "X = pd.get_dummies(X)\n",
    "\n",
    "# Paso 2: Definir los modelos de datos para la entrada y salida de la API\n",
    "class CrimePredictionInput(BaseModel):\n",
    "    DATE_OF_OCCURRENCE: str\n",
    "    BLOCK: str\n",
    "    IUCR: str\n",
    "    LOCATION_DESCRIPTION: str\n",
    "    ARREST: str\n",
    "    DOMESTIC: str\n",
    "    BEAT: int\n",
    "    WARD: int\n",
    "class CrimePredictionOutput(BaseModel):\n",
    "   DESCRIPTION: str\n",
    "# Paso 3: Inicializar la aplicación FastAPI\n",
    "app = FastAPI()\n",
    "# Paso 4: Definir el endpoint para hacer predicciones de crimen\n",
    "@app.post('/predict/')\n",
    "async def predict_crime(data: CrimePredictionInput):\n",
    "    # Convertir los datos de entrada en un DataFrame\n",
    "    input_data = pd.DataFrame([data.dict()])\n",
    "    # Preprocesar los datos de entrada\n",
    "    input_data = pd.get_dummies(input_data)\n",
    "    # Asegurarse de que todas las columnas necesarias estén presentes\n",
    "    required_columns = set(X.columns)\n",
    "    missing_columns = required_columns - set(input_data.columns)\n",
    "    for column in missing_columns:\n",
    "        input_data[column] = 0\n",
    "    # Hacer la predicción\n",
    "    prediction = model.predict(input_data)\n",
    "    # Obtener la descripción primaria del crimen predicho\n",
    "    description = prediction[0]\n",
    "    return CrimePredictionOutput(DESCRIPTION=description)\n"
   ]
  },
  {
   "cell_type": "code",
   "execution_count": null,
   "id": "c8c9eda5-5d30-4446-8d38-919aed3c8717",
   "metadata": {},
   "outputs": [],
   "source": [
    "pip install fasta"
   ]
  },
  {
   "cell_type": "code",
   "execution_count": null,
   "id": "e24fdb1e-f146-484d-9292-e90f225cc566",
   "metadata": {},
   "outputs": [],
   "source": []
  }
 ],
 "metadata": {
  "kernelspec": {
   "display_name": "Python 3 (ipykernel)",
   "language": "python",
   "name": "python3"
  },
  "language_info": {
   "codemirror_mode": {
    "name": "ipython",
    "version": 3
   },
   "file_extension": ".py",
   "mimetype": "text/x-python",
   "name": "python",
   "nbconvert_exporter": "python",
   "pygments_lexer": "ipython3",
   "version": "3.11.6"
  }
 },
 "nbformat": 4,
 "nbformat_minor": 5
}
