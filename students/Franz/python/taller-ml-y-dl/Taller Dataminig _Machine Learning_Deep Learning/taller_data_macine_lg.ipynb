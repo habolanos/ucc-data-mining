{
 "cells": [
  {
   "cell_type": "code",
   "execution_count": 1,
   "id": "816b226d-d1bd-4444-bb00-3dee6459b91f",
   "metadata": {},
   "outputs": [
    {
     "name": "stdout",
     "output_type": "stream",
     "text": [
      "Requirement already satisfied: pandas in /opt/conda/lib/python3.11/site-packages (2.2.2)\n",
      "Requirement already satisfied: matplotlib in /opt/conda/lib/python3.11/site-packages (3.8.4)\n",
      "Requirement already satisfied: seaborn in /opt/conda/lib/python3.11/site-packages (0.13.2)\n",
      "Requirement already satisfied: numpy in /opt/conda/lib/python3.11/site-packages (1.26.4)\n",
      "Requirement already satisfied: python-dateutil>=2.8.2 in /opt/conda/lib/python3.11/site-packages (from pandas) (2.8.2)\n",
      "Requirement already satisfied: pytz>=2020.1 in /opt/conda/lib/python3.11/site-packages (from pandas) (2023.3.post1)\n",
      "Requirement already satisfied: tzdata>=2022.7 in /opt/conda/lib/python3.11/site-packages (from pandas) (2024.1)\n",
      "Requirement already satisfied: contourpy>=1.0.1 in /opt/conda/lib/python3.11/site-packages (from matplotlib) (1.2.1)\n",
      "Requirement already satisfied: cycler>=0.10 in /opt/conda/lib/python3.11/site-packages (from matplotlib) (0.12.1)\n",
      "Requirement already satisfied: fonttools>=4.22.0 in /opt/conda/lib/python3.11/site-packages (from matplotlib) (4.51.0)\n",
      "Requirement already satisfied: kiwisolver>=1.3.1 in /opt/conda/lib/python3.11/site-packages (from matplotlib) (1.4.5)\n",
      "Requirement already satisfied: packaging>=20.0 in /opt/conda/lib/python3.11/site-packages (from matplotlib) (23.2)\n",
      "Requirement already satisfied: pillow>=8 in /opt/conda/lib/python3.11/site-packages (from matplotlib) (10.3.0)\n",
      "Requirement already satisfied: pyparsing>=2.3.1 in /opt/conda/lib/python3.11/site-packages (from matplotlib) (3.1.2)\n",
      "Requirement already satisfied: six>=1.5 in /opt/conda/lib/python3.11/site-packages (from python-dateutil>=2.8.2->pandas) (1.16.0)\n",
      "Note: you may need to restart the kernel to use updated packages.\n"
     ]
    }
   ],
   "source": [
    "pip install pandas matplotlib seaborn numpy"
   ]
  },
  {
   "cell_type": "code",
   "execution_count": 2,
   "id": "c34f19fe-a83c-458b-93f3-05aff70c8e94",
   "metadata": {},
   "outputs": [
    {
     "name": "stdout",
     "output_type": "stream",
     "text": [
      "Requirement already satisfied: tensorFlow in /opt/conda/lib/python3.11/site-packages (2.16.1)\n",
      "Requirement already satisfied: absl-py>=1.0.0 in /opt/conda/lib/python3.11/site-packages (from tensorFlow) (2.1.0)\n",
      "Requirement already satisfied: astunparse>=1.6.0 in /opt/conda/lib/python3.11/site-packages (from tensorFlow) (1.6.3)\n",
      "Requirement already satisfied: flatbuffers>=23.5.26 in /opt/conda/lib/python3.11/site-packages (from tensorFlow) (24.3.25)\n",
      "Requirement already satisfied: gast!=0.5.0,!=0.5.1,!=0.5.2,>=0.2.1 in /opt/conda/lib/python3.11/site-packages (from tensorFlow) (0.5.4)\n",
      "Requirement already satisfied: google-pasta>=0.1.1 in /opt/conda/lib/python3.11/site-packages (from tensorFlow) (0.2.0)\n",
      "Requirement already satisfied: h5py>=3.10.0 in /opt/conda/lib/python3.11/site-packages (from tensorFlow) (3.11.0)\n",
      "Requirement already satisfied: libclang>=13.0.0 in /opt/conda/lib/python3.11/site-packages (from tensorFlow) (18.1.1)\n",
      "Requirement already satisfied: ml-dtypes~=0.3.1 in /opt/conda/lib/python3.11/site-packages (from tensorFlow) (0.3.2)\n",
      "Requirement already satisfied: opt-einsum>=2.3.2 in /opt/conda/lib/python3.11/site-packages (from tensorFlow) (3.3.0)\n",
      "Requirement already satisfied: packaging in /opt/conda/lib/python3.11/site-packages (from tensorFlow) (23.2)\n",
      "Requirement already satisfied: protobuf!=4.21.0,!=4.21.1,!=4.21.2,!=4.21.3,!=4.21.4,!=4.21.5,<5.0.0dev,>=3.20.3 in /opt/conda/lib/python3.11/site-packages (from tensorFlow) (4.25.3)\n",
      "Requirement already satisfied: requests<3,>=2.21.0 in /opt/conda/lib/python3.11/site-packages (from tensorFlow) (2.31.0)\n",
      "Requirement already satisfied: setuptools in /opt/conda/lib/python3.11/site-packages (from tensorFlow) (68.2.2)\n",
      "Requirement already satisfied: six>=1.12.0 in /opt/conda/lib/python3.11/site-packages (from tensorFlow) (1.16.0)\n",
      "Requirement already satisfied: termcolor>=1.1.0 in /opt/conda/lib/python3.11/site-packages (from tensorFlow) (2.4.0)\n",
      "Requirement already satisfied: typing-extensions>=3.6.6 in /opt/conda/lib/python3.11/site-packages (from tensorFlow) (4.8.0)\n",
      "Requirement already satisfied: wrapt>=1.11.0 in /opt/conda/lib/python3.11/site-packages (from tensorFlow) (1.16.0)\n",
      "Requirement already satisfied: grpcio<2.0,>=1.24.3 in /opt/conda/lib/python3.11/site-packages (from tensorFlow) (1.63.0)\n",
      "Requirement already satisfied: tensorboard<2.17,>=2.16 in /opt/conda/lib/python3.11/site-packages (from tensorFlow) (2.16.2)\n",
      "Requirement already satisfied: keras>=3.0.0 in /opt/conda/lib/python3.11/site-packages (from tensorFlow) (3.3.3)\n",
      "Requirement already satisfied: tensorflow-io-gcs-filesystem>=0.23.1 in /opt/conda/lib/python3.11/site-packages (from tensorFlow) (0.37.0)\n",
      "Requirement already satisfied: numpy<2.0.0,>=1.23.5 in /opt/conda/lib/python3.11/site-packages (from tensorFlow) (1.26.4)\n",
      "Requirement already satisfied: wheel<1.0,>=0.23.0 in /opt/conda/lib/python3.11/site-packages (from astunparse>=1.6.0->tensorFlow) (0.41.2)\n",
      "Requirement already satisfied: rich in /opt/conda/lib/python3.11/site-packages (from keras>=3.0.0->tensorFlow) (13.7.1)\n",
      "Requirement already satisfied: namex in /opt/conda/lib/python3.11/site-packages (from keras>=3.0.0->tensorFlow) (0.0.8)\n",
      "Requirement already satisfied: optree in /opt/conda/lib/python3.11/site-packages (from keras>=3.0.0->tensorFlow) (0.11.0)\n",
      "Requirement already satisfied: charset-normalizer<4,>=2 in /opt/conda/lib/python3.11/site-packages (from requests<3,>=2.21.0->tensorFlow) (3.3.0)\n",
      "Requirement already satisfied: idna<4,>=2.5 in /opt/conda/lib/python3.11/site-packages (from requests<3,>=2.21.0->tensorFlow) (3.4)\n",
      "Requirement already satisfied: urllib3<3,>=1.21.1 in /opt/conda/lib/python3.11/site-packages (from requests<3,>=2.21.0->tensorFlow) (2.0.7)\n",
      "Requirement already satisfied: certifi>=2017.4.17 in /opt/conda/lib/python3.11/site-packages (from requests<3,>=2.21.0->tensorFlow) (2023.7.22)\n",
      "Requirement already satisfied: markdown>=2.6.8 in /opt/conda/lib/python3.11/site-packages (from tensorboard<2.17,>=2.16->tensorFlow) (3.6)\n",
      "Requirement already satisfied: tensorboard-data-server<0.8.0,>=0.7.0 in /opt/conda/lib/python3.11/site-packages (from tensorboard<2.17,>=2.16->tensorFlow) (0.7.2)\n",
      "Requirement already satisfied: werkzeug>=1.0.1 in /opt/conda/lib/python3.11/site-packages (from tensorboard<2.17,>=2.16->tensorFlow) (3.0.2)\n",
      "Requirement already satisfied: MarkupSafe>=2.1.1 in /opt/conda/lib/python3.11/site-packages (from werkzeug>=1.0.1->tensorboard<2.17,>=2.16->tensorFlow) (2.1.3)\n",
      "Requirement already satisfied: markdown-it-py>=2.2.0 in /opt/conda/lib/python3.11/site-packages (from rich->keras>=3.0.0->tensorFlow) (3.0.0)\n",
      "Requirement already satisfied: pygments<3.0.0,>=2.13.0 in /opt/conda/lib/python3.11/site-packages (from rich->keras>=3.0.0->tensorFlow) (2.16.1)\n",
      "Requirement already satisfied: mdurl~=0.1 in /opt/conda/lib/python3.11/site-packages (from markdown-it-py>=2.2.0->rich->keras>=3.0.0->tensorFlow) (0.1.2)\n",
      "Note: you may need to restart the kernel to use updated packages.\n"
     ]
    }
   ],
   "source": [
    "pip install tensorFlow"
   ]
  },
  {
   "cell_type": "code",
   "execution_count": 3,
   "id": "c681e9dc-b5cd-4db9-9d69-ea9fabe47216",
   "metadata": {},
   "outputs": [
    {
     "name": "stdout",
     "output_type": "stream",
     "text": [
      "Requirement already satisfied: scikit-learn in /opt/conda/lib/python3.11/site-packages (1.4.2)\n",
      "Requirement already satisfied: numpy>=1.19.5 in /opt/conda/lib/python3.11/site-packages (from scikit-learn) (1.26.4)\n",
      "Requirement already satisfied: scipy>=1.6.0 in /opt/conda/lib/python3.11/site-packages (from scikit-learn) (1.13.0)\n",
      "Requirement already satisfied: joblib>=1.2.0 in /opt/conda/lib/python3.11/site-packages (from scikit-learn) (1.4.2)\n",
      "Requirement already satisfied: threadpoolctl>=2.0.0 in /opt/conda/lib/python3.11/site-packages (from scikit-learn) (3.5.0)\n",
      "Note: you may need to restart the kernel to use updated packages.\n"
     ]
    }
   ],
   "source": [
    "pip install scikit-learn"
   ]
  },
  {
   "cell_type": "code",
   "execution_count": 4,
   "id": "8ce01bd9-4037-442e-927d-fdf9caf1051a",
   "metadata": {},
   "outputs": [],
   "source": [
    " #Ejercio 01"
   ]
  },
  {
   "cell_type": "code",
   "execution_count": 5,
   "id": "66e897d3-62b8-4b56-b0c6-5d490b02210e",
   "metadata": {},
   "outputs": [
    {
     "name": "stdout",
     "output_type": "stream",
     "text": [
      "Requirement already satisfied: tensorFlow in /opt/conda/lib/python3.11/site-packages (2.16.1)\n",
      "Requirement already satisfied: absl-py>=1.0.0 in /opt/conda/lib/python3.11/site-packages (from tensorFlow) (2.1.0)\n",
      "Requirement already satisfied: astunparse>=1.6.0 in /opt/conda/lib/python3.11/site-packages (from tensorFlow) (1.6.3)\n",
      "Requirement already satisfied: flatbuffers>=23.5.26 in /opt/conda/lib/python3.11/site-packages (from tensorFlow) (24.3.25)\n",
      "Requirement already satisfied: gast!=0.5.0,!=0.5.1,!=0.5.2,>=0.2.1 in /opt/conda/lib/python3.11/site-packages (from tensorFlow) (0.5.4)\n",
      "Requirement already satisfied: google-pasta>=0.1.1 in /opt/conda/lib/python3.11/site-packages (from tensorFlow) (0.2.0)\n",
      "Requirement already satisfied: h5py>=3.10.0 in /opt/conda/lib/python3.11/site-packages (from tensorFlow) (3.11.0)\n",
      "Requirement already satisfied: libclang>=13.0.0 in /opt/conda/lib/python3.11/site-packages (from tensorFlow) (18.1.1)\n",
      "Requirement already satisfied: ml-dtypes~=0.3.1 in /opt/conda/lib/python3.11/site-packages (from tensorFlow) (0.3.2)\n",
      "Requirement already satisfied: opt-einsum>=2.3.2 in /opt/conda/lib/python3.11/site-packages (from tensorFlow) (3.3.0)\n",
      "Requirement already satisfied: packaging in /opt/conda/lib/python3.11/site-packages (from tensorFlow) (23.2)\n",
      "Requirement already satisfied: protobuf!=4.21.0,!=4.21.1,!=4.21.2,!=4.21.3,!=4.21.4,!=4.21.5,<5.0.0dev,>=3.20.3 in /opt/conda/lib/python3.11/site-packages (from tensorFlow) (4.25.3)\n",
      "Requirement already satisfied: requests<3,>=2.21.0 in /opt/conda/lib/python3.11/site-packages (from tensorFlow) (2.31.0)\n",
      "Requirement already satisfied: setuptools in /opt/conda/lib/python3.11/site-packages (from tensorFlow) (68.2.2)\n",
      "Requirement already satisfied: six>=1.12.0 in /opt/conda/lib/python3.11/site-packages (from tensorFlow) (1.16.0)\n",
      "Requirement already satisfied: termcolor>=1.1.0 in /opt/conda/lib/python3.11/site-packages (from tensorFlow) (2.4.0)\n",
      "Requirement already satisfied: typing-extensions>=3.6.6 in /opt/conda/lib/python3.11/site-packages (from tensorFlow) (4.8.0)\n",
      "Requirement already satisfied: wrapt>=1.11.0 in /opt/conda/lib/python3.11/site-packages (from tensorFlow) (1.16.0)\n",
      "Requirement already satisfied: grpcio<2.0,>=1.24.3 in /opt/conda/lib/python3.11/site-packages (from tensorFlow) (1.63.0)\n",
      "Requirement already satisfied: tensorboard<2.17,>=2.16 in /opt/conda/lib/python3.11/site-packages (from tensorFlow) (2.16.2)\n",
      "Requirement already satisfied: keras>=3.0.0 in /opt/conda/lib/python3.11/site-packages (from tensorFlow) (3.3.3)\n",
      "Requirement already satisfied: tensorflow-io-gcs-filesystem>=0.23.1 in /opt/conda/lib/python3.11/site-packages (from tensorFlow) (0.37.0)\n",
      "Requirement already satisfied: numpy<2.0.0,>=1.23.5 in /opt/conda/lib/python3.11/site-packages (from tensorFlow) (1.26.4)\n",
      "Requirement already satisfied: wheel<1.0,>=0.23.0 in /opt/conda/lib/python3.11/site-packages (from astunparse>=1.6.0->tensorFlow) (0.41.2)\n",
      "Requirement already satisfied: rich in /opt/conda/lib/python3.11/site-packages (from keras>=3.0.0->tensorFlow) (13.7.1)\n",
      "Requirement already satisfied: namex in /opt/conda/lib/python3.11/site-packages (from keras>=3.0.0->tensorFlow) (0.0.8)\n",
      "Requirement already satisfied: optree in /opt/conda/lib/python3.11/site-packages (from keras>=3.0.0->tensorFlow) (0.11.0)\n",
      "Requirement already satisfied: charset-normalizer<4,>=2 in /opt/conda/lib/python3.11/site-packages (from requests<3,>=2.21.0->tensorFlow) (3.3.0)\n",
      "Requirement already satisfied: idna<4,>=2.5 in /opt/conda/lib/python3.11/site-packages (from requests<3,>=2.21.0->tensorFlow) (3.4)\n",
      "Requirement already satisfied: urllib3<3,>=1.21.1 in /opt/conda/lib/python3.11/site-packages (from requests<3,>=2.21.0->tensorFlow) (2.0.7)\n",
      "Requirement already satisfied: certifi>=2017.4.17 in /opt/conda/lib/python3.11/site-packages (from requests<3,>=2.21.0->tensorFlow) (2023.7.22)\n",
      "Requirement already satisfied: markdown>=2.6.8 in /opt/conda/lib/python3.11/site-packages (from tensorboard<2.17,>=2.16->tensorFlow) (3.6)\n",
      "Requirement already satisfied: tensorboard-data-server<0.8.0,>=0.7.0 in /opt/conda/lib/python3.11/site-packages (from tensorboard<2.17,>=2.16->tensorFlow) (0.7.2)\n",
      "Requirement already satisfied: werkzeug>=1.0.1 in /opt/conda/lib/python3.11/site-packages (from tensorboard<2.17,>=2.16->tensorFlow) (3.0.2)\n",
      "Requirement already satisfied: MarkupSafe>=2.1.1 in /opt/conda/lib/python3.11/site-packages (from werkzeug>=1.0.1->tensorboard<2.17,>=2.16->tensorFlow) (2.1.3)\n",
      "Requirement already satisfied: markdown-it-py>=2.2.0 in /opt/conda/lib/python3.11/site-packages (from rich->keras>=3.0.0->tensorFlow) (3.0.0)\n",
      "Requirement already satisfied: pygments<3.0.0,>=2.13.0 in /opt/conda/lib/python3.11/site-packages (from rich->keras>=3.0.0->tensorFlow) (2.16.1)\n",
      "Requirement already satisfied: mdurl~=0.1 in /opt/conda/lib/python3.11/site-packages (from markdown-it-py>=2.2.0->rich->keras>=3.0.0->tensorFlow) (0.1.2)\n",
      "Note: you may need to restart the kernel to use updated packages.\n"
     ]
    }
   ],
   "source": [
    "pip install tensorFlow"
   ]
  },
  {
   "cell_type": "code",
   "execution_count": 13,
   "id": "c4359803-4654-4bfd-a750-184371b0ce3b",
   "metadata": {},
   "outputs": [
    {
     "name": "stderr",
     "output_type": "stream",
     "text": [
      "/tmp/ipykernel_27612/2939483150.py:9: DtypeWarning: Columns (0) have mixed types. Specify dtype option on import or set low_memory=False.\n",
      "  data = pd.read_csv('data.csv')\n"
     ]
    },
    {
     "name": "stdout",
     "output_type": "stream",
     "text": [
      "    CASE#      DATE OF OCCURRENCE                                BLOCK  IUCR  \\\n",
      "0  406115  08/31/2023 07:00:00 PM                 042XX W MARQUETTE RD  0498   \n",
      "1  425966  09/15/2023 11:20:00 PM                      010XX W 84TH ST  0486   \n",
      "2  412467  08/31/2023 09:13:00 PM                   093XX S WABASH AVE  0910   \n",
      "3  426285  09/15/2023 06:00:00 PM  057XX S DR MARTIN LUTHER KING JR DR  1320   \n",
      "4  178504  03/07/2024 01:50:00 AM                    059XX W FULTON ST  0486   \n",
      "\n",
      "           DESCRIPTION                              SECONDARY DESCRIPTION  \\\n",
      "0              BATTERY  AGG. DOMESTIC BATTERY - HANDS, FISTS, FEET, SE...   \n",
      "1              BATTERY                            DOMESTIC BATTERY SIMPLE   \n",
      "2  MOTOR VEHICLE THEFT                                         AUTOMOBILE   \n",
      "3      CRIMINAL DAMAGE                                         TO VEHICLE   \n",
      "4              BATTERY                            DOMESTIC BATTERY SIMPLE   \n",
      "\n",
      "                     LOCATION DESCRIPTION ARREST DOMESTIC  BEAT  WARD FBI CD  \\\n",
      "0                               APARTMENT      Y        Y   833  23.0    04B   \n",
      "1                               APARTMENT      N        Y   613  17.0    08B   \n",
      "2                                  STREET      N        N   634   6.0     07   \n",
      "3  PARKING LOT / GARAGE (NON RESIDENTIAL)      N        N   232  20.0     14   \n",
      "4                               APARTMENT      N        Y  1512  29.0    08B   \n",
      "\n",
      "   X COORDINATE  Y COORDINATE   LATITUDE  LONGITUDE  \\\n",
      "0     1149062.0     1859830.0  41.771296 -87.729149   \n",
      "1     1170922.0     1849120.0  41.741457 -87.649330   \n",
      "2     1178354.0     1843057.0  41.724654 -87.622283   \n",
      "3     1179905.0     1867002.0  41.790327 -87.615871   \n",
      "4     1136554.0     1901395.0  41.885589 -87.774008   \n",
      "\n",
      "                        LOCATION  \n",
      "0  (41.771296232, -87.729149311)  \n",
      "1   (41.74145726, -87.649330096)  \n",
      "2  (41.724654303, -87.622283278)  \n",
      "3  (41.790326702, -87.615870527)  \n",
      "4  (41.885589206, -87.774008188)  \n",
      "                BEAT           WARD  X COORDINATE  Y COORDINATE  \\\n",
      "count  258733.000000  258731.000000  2.586640e+05  2.586640e+05   \n",
      "mean     1157.109321      23.110114  1.165305e+06  1.887518e+06   \n",
      "std       713.007720      13.973683  1.627123e+04  3.172066e+04   \n",
      "min       111.000000       1.000000  1.091242e+06  1.813897e+06   \n",
      "25%       533.000000      10.000000  1.153948e+06  1.860124e+06   \n",
      "50%      1033.000000      23.000000  1.167062e+06  1.893692e+06   \n",
      "75%      1732.000000      34.000000  1.176755e+06  1.910493e+06   \n",
      "max      2535.000000      50.000000  1.205119e+06  1.951506e+06   \n",
      "\n",
      "            LATITUDE      LONGITUDE  \n",
      "count  258664.000000  258664.000000  \n",
      "mean       41.846932     -87.668866  \n",
      "std         0.087230       0.059239  \n",
      "min        41.644590     -87.939733  \n",
      "25%        41.771677     -87.710212  \n",
      "50%        41.863976     -87.662406  \n",
      "75%        41.910118     -87.626945  \n",
      "max        42.022549     -87.524532  \n",
      "<class 'pandas.core.frame.DataFrame'>\n",
      "RangeIndex: 258733 entries, 0 to 258732\n",
      "Data columns (total 17 columns):\n",
      " #   Column                 Non-Null Count   Dtype  \n",
      "---  ------                 --------------   -----  \n",
      " 0   CASE#                  258733 non-null  object \n",
      " 1   DATE OF OCCURRENCE     258733 non-null  object \n",
      " 2   BLOCK                  258733 non-null  object \n",
      " 3   IUCR                   258733 non-null  object \n",
      " 4   DESCRIPTION            258733 non-null  object \n",
      " 5   SECONDARY DESCRIPTION  258733 non-null  object \n",
      " 6   LOCATION DESCRIPTION   257509 non-null  object \n",
      " 7   ARREST                 258733 non-null  object \n",
      " 8   DOMESTIC               258733 non-null  object \n",
      " 9   BEAT                   258733 non-null  int64  \n",
      " 10  WARD                   258731 non-null  float64\n",
      " 11  FBI CD                 258733 non-null  object \n",
      " 12  X COORDINATE           258664 non-null  float64\n",
      " 13  Y COORDINATE           258664 non-null  float64\n",
      " 14  LATITUDE               258664 non-null  float64\n",
      " 15  LONGITUDE              258664 non-null  float64\n",
      " 16  LOCATION               258664 non-null  object \n",
      "dtypes: float64(5), int64(1), object(11)\n",
      "memory usage: 33.6+ MB\n",
      "None\n",
      "Distribucion de DESCRIPTION\n",
      "DESCRIPTION\n",
      "THEFT                                57299\n",
      "BATTERY                              44531\n",
      "CRIMINAL DAMAGE                      29872\n",
      "MOTOR VEHICLE THEFT                  27590\n",
      "ASSAULT                              22788\n",
      "OTHER OFFENSE                        15823\n",
      "DECEPTIVE PRACTICE                   15655\n",
      "ROBBERY                              10967\n",
      "WEAPONS VIOLATION                     8445\n",
      "BURGLARY                              7283\n",
      "NARCOTICS                             5233\n",
      "CRIMINAL TRESPASS                     4674\n",
      "OFFENSE INVOLVING CHILDREN            1657\n",
      "CRIMINAL SEXUAL ASSAULT               1573\n",
      "SEX OFFENSE                           1308\n",
      "PUBLIC PEACE VIOLATION                 878\n",
      "HOMICIDE                               609\n",
      "INTERFERENCE WITH PUBLIC OFFICER       605\n",
      "ARSON                                  507\n",
      "STALKING                               479\n",
      "INTIMIDATION                           205\n",
      "CONCEALED CARRY LICENSE VIOLATION      191\n",
      "LIQUOR LAW VIOLATION                   186\n",
      "PROSTITUTION                           167\n",
      "KIDNAPPING                             132\n",
      "OBSCENITY                               44\n",
      "GAMBLING                                14\n",
      "HUMAN TRAFFICKING                        9\n",
      "PUBLIC INDECENCY                         6\n",
      "NON-CRIMINAL                             3\n",
      "Name: count, dtype: int64\n",
      "Distribucion de SECONDARY DESCRIPTION\n",
      "SECONDARY DESCRIPTION\n",
      "SIMPLE                                30202\n",
      "OVER $500                             20150\n",
      "DOMESTIC BATTERY SIMPLE               19915\n",
      "$500 AND UNDER                        18819\n",
      "AUTOMOBILE                            18708\n",
      "                                      ...  \n",
      "SEX OFFENDER - PROHIBITED ZONE            1\n",
      "INTERFERE WITH EMERGENCY EQUIPMENT        1\n",
      "POSSESSION - SYNTHETIC MARIJUANA          1\n",
      "RECKLESS HOMICIDE                         1\n",
      "SELL / ADVERTISE FIREWORKS                1\n",
      "Name: count, Length: 293, dtype: int64\n",
      "Distribucion de LOCATION DESCRIPTION\n",
      "LOCATION DESCRIPTION\n",
      "STREET                                    76046\n",
      "APARTMENT                                 48597\n",
      "RESIDENCE                                 30638\n",
      "SIDEWALK                                  13193\n",
      "PARKING LOT / GARAGE (NON RESIDENTIAL)     9558\n",
      "                                          ...  \n",
      "CTA SUBWAY STATION                            1\n",
      "TAVERN                                        1\n",
      "CHA GROUNDS                                   1\n",
      "BEACH                                         1\n",
      "CHA STAIRWELL                                 1\n",
      "Name: count, Length: 131, dtype: int64\n"
     ]
    },
    {
     "data": {
      "image/png": "[encoded data removed]",
      "text/plain": [
       "<Figure size 1000x800 with 7 Axes>"
      ]
     },
     "metadata": {},
     "output_type": "display_data"
    }
   ],
   "source": [
    "\n",
    "import pandas as pd\n",
    "import matplotlib.pyplot as plt\n",
    "import seaborn as sns\n",
    "\n",
    "import re\n",
    "import numpy as np\n",
    "\n",
    "# Cargar los datos\n",
    "data = pd.read_csv('data.csv')\n",
    "\n",
    "# Mostrar las primeras filas \n",
    "print(data.head())\n",
    "\n",
    "# Descripcion estadistica de los datos numericos\n",
    "print(data.describe())\n",
    "\n",
    "print(data.info())\n",
    "\n",
    "# Distribucion de caracteristicas categoria\n",
    "categoria_columns = ['DESCRIPTION','SECONDARY DESCRIPTION','LOCATION DESCRIPTION']\n",
    "for col in categoria_columns:\n",
    "    print(f\"Distribucion de {col}\")\n",
    "    print(data[col].value_counts())\n",
    "\n",
    "# Histograma de las caractersticas numericas\n",
    "data.hist(figsize=(10,8))\n",
    "# plt.show()\n",
    "\n",
    "# Extraer solo los números de la columna 'CASE#'\n",
    "data_cleaned_case_numeric = data.copy()\n",
    "data['CASE#'] = pd.to_numeric(data['CASE#'], errors='coerce')\n",
    "\n",
    "# Se separa solo los datos numericos\n",
    "data_numeric = data_cleaned_case_numeric.select_dtypes(include=[np.number])\n",
    "\n",
    "# Mapa de calor de la correlación\n",
    "corr_matrix = data_numeric.corr()\n",
    "sns.heatmap(corr_matrix, annot=True, cmap='coolwarm')\n",
    "plt.show()"
   ]
  },
  {
   "cell_type": "code",
   "execution_count": 14,
   "id": "e5886efd-19da-40c4-af6b-3eadf85eb2a2",
   "metadata": {},
   "outputs": [],
   "source": [
    "#Ejercio 02"
   ]
  },
  {
   "cell_type": "code",
   "execution_count": 16,
   "id": "91e84c48-9750-4fcd-abd6-063b9473bb9e",
   "metadata": {},
   "outputs": [],
   "source": [
    "from sklearn.preprocessing import LabelEncoder, StandardScaler\n",
    "from sklearn.model_selection import train_test_split\n",
    "\n",
    "import re\n",
    "import numpy as np\n",
    "\n",
    "# Limpiar los datos eliminando filas con valores nulos\n",
    "data_cleaned = data.dropna()\n",
    "\n",
    "# Convertir características categóricas a numéricas\n",
    "label_encoders = {}\n",
    "categorical_columns = ['DESCRIPTION', 'SECONDARY DESCRIPTION', 'LOCATION DESCRIPTION']\n",
    "\n",
    "#print(data_cleaned.info())\n",
    "\n",
    "\n",
    "for col in categorical_columns:\n",
    "    le = LabelEncoder()\n",
    "    #data_cleaned[col] = le.fit_transform(data_cleaned[col])\n",
    "    data_cleaned.loc[:, col] = le.fit_transform(data_cleaned[col])\n",
    "    label_encoders[col] = le\n",
    "\n",
    "# Extraer solo los números de la columna 'CASE#'\n",
    "data_cleaned_case_numeric = data.copy()\n",
    "data['CASE#'] = pd.to_numeric(data['CASE#'], errors='coerce')\n",
    "\n",
    "# Separar las características y el objetivo\n",
    "X = data_cleaned_case_numeric.drop(columns=['ARREST', 'DOMESTIC', 'CASE#'])\n",
    "y_arrest = data_cleaned_case_numeric['ARREST']\n",
    "y_domestic = data_cleaned_case_numeric['DOMESTIC']\n",
    "\n",
    "\n",
    "# Se separa solo los datos numericos\n",
    "X_numeric = X.select_dtypes(include=[np.number])\n",
    "\n",
    "# Escalar características numéricas\n",
    "scaler = StandardScaler()\n",
    "X_scaled = scaler.fit_transform(X_numeric)\n",
    "\n",
    "\n",
    "# Dividir los datos en conjuntos de entrenamiento y prueba\n",
    "X_train, X_test, y_arrest_train, y_arrest_test = train_test_split(X_scaled, y_arrest, test_size=0.2, random_state=42)\n",
    "X_train, X_test, y_domestic_train, y_domestic_test = train_test_split(X_scaled, y_domestic, test_size=0.2, random_state=42)\n"
   ]
  },
  {
   "cell_type": "code",
   "execution_count": 19,
   "id": "45715ad0-9c76-421a-8e95-8d5748ad45cf",
   "metadata": {},
   "outputs": [],
   "source": [
    "# Ejerciccio 3"
   ]
  },
  {
   "cell_type": "code",
   "execution_count": 18,
   "id": "46fe1afd-df5e-4251-9327-41d233ae2bcc",
   "metadata": {},
   "outputs": [
    {
     "name": "stdout",
     "output_type": "stream",
     "text": [
      "              precision    recall  f1-score   support\n",
      "\n",
      "           N       0.90      0.95      0.92     45532\n",
      "           Y       0.35      0.19      0.24      6215\n",
      "\n",
      "    accuracy                           0.86     51747\n",
      "   macro avg       0.62      0.57      0.58     51747\n",
      "weighted avg       0.83      0.86      0.84     51747\n",
      "\n"
     ]
    }
   ],
   "source": [
    "from sklearn.ensemble import RandomForestClassifier\n",
    "from sklearn.metrics import classification_report\n",
    "\n",
    "# Entrenar un modelo de clasificación de Random Forest\n",
    "clf = RandomForestClassifier(random_state=42)\n",
    "clf.fit(X_train, y_arrest_train)\n",
    "\n",
    "# Predecir en el conjunto de prueba\n",
    "y_pred = clf.predict(X_test)\n",
    "\n",
    "# Informar de clasificación\n",
    "print(classification_report(y_arrest_test, y_pred))"
   ]
  },
  {
   "cell_type": "code",
   "execution_count": 20,
   "id": "01681f93-3bce-4184-a813-c158ac5f399c",
   "metadata": {},
   "outputs": [],
   "source": [
    "# EJERCICO 4"
   ]
  },
  {
   "cell_type": "code",
   "execution_count": null,
   "id": "cbd1a3d9-4c69-4c11-97d5-55f9a7fc35cb",
   "metadata": {},
   "outputs": [],
   "source": [
    "from sklearn.ensemble import RandomForestRegressor\n",
    "from sklearn.metrics import mean_absolute_error, mean_squared_error\n",
    "\n",
    "# Entrenar un modelo de regresión de Random Forest\n",
    "reg_latitude = RandomForestRegressor(random_state=42)\n",
    "reg_longitude = RandomForestRegressor(random_state=42)\n",
    "\n",
    "# Separar el objetivo de regresión\n",
    "y_latitude = data_cleaned['LATITUDE']\n",
    "y_longitude = data_cleaned['LONGITUDE']\n",
    "\n",
    "# Dividir los datos\n",
    "X_train_lat, X_test_lat, y_train_lat, y_test_lat = train_test_split(X_scaled, y_latitude, test_size=0.2, random_state=42)\n",
    "X_train_long, X_test_long, y_train_long, y_test_long = train_test_split(X_scaled, y_longitude, test_size=0.2, random_state=42)\n",
    "\n",
    "# Entrenar modelos\n",
    "reg_latitude.fit(X_train_lat, y_train_lat)\n",
    "reg_longitude.fit(X_train_long, y_train_long)\n",
    "\n",
    "# Predecir y evaluar los modelos\n",
    "y_pred_lat = reg_latitude.predict(X_test_lat)\n",
    "y_pred_long = reg_longitude.predict(X_test_long)\n",
    "\n",
    "print(\"MAE Latitud:\", mean_absolute_error(y_test_lat, y_pred_lat))\n",
    "print(\"MSE Latitud:\", mean_squared_error(y_test_lat, y_pred_lat))\n",
    "print(\"MAE Longitud:\", mean_absolute_error(y_test_long, y_pred_long))\n",
    "print(\"MSE Longitud:\", mean_squared_error(y_test_long, y_pred_long))"
   ]
  },
  {
   "cell_type": "code",
   "execution_count": 24,
   "id": "004b78ec-2bc5-4b94-a7cd-43a90bf27d72",
   "metadata": {},
   "outputs": [],
   "source": [
    "# EJERCICIO 5"
   ]
  },
  {
   "cell_type": "code",
   "execution_count": 25,
   "id": "599fd0c3-6587-4487-b380-836e5a65b273",
   "metadata": {},
   "outputs": [
    {
     "name": "stderr",
     "output_type": "stream",
     "text": [
      "/tmp/ipykernel_27612/2086816797.py:5: UserWarning: Could not infer format, so each element will be parsed individually, falling back to `dateutil`. To ensure parsing is consistent and as-expected, please specify a format.\n",
      "  data['DATE OF OCCURRENCE'] = pd.to_datetime(data['DATE OF OCCURRENCE'])\n"
     ]
    },
    {
     "data": {
      "image/png": "[encoded data removed]",
      "text/plain": [
       "<Figure size 1200x600 with 1 Axes>"
      ]
     },
     "metadata": {},
     "output_type": "display_data"
    }
   ],
   "source": [
    "import matplotlib.pyplot as plt\n",
    "import pandas as pd\n",
    "\n",
    "# Convertir la columna de fecha a tipo datetime\n",
    "data['DATE OF OCCURRENCE'] = pd.to_datetime(data['DATE OF OCCURRENCE'])\n",
    "\n",
    "# Agrupar datos por fecha y contar ocurrencias\n",
    "time_series = data.groupby(data['DATE OF OCCURRENCE'].dt.date).size()\n",
    "# Graficar la serie temporal\n",
    "plt.figure(figsize=(12, 6))\n",
    "plt.plot(time_series)\n",
    "plt.title(\"Ocurrencias a lo largo del tiempo\")\n",
    "plt.xlabel(\"Fecha\")\n",
    "plt.ylabel(\"Número de ocurrencias\")\n",
    "plt.show()"
   ]
  },
  {
   "cell_type": "code",
   "execution_count": null,
   "id": "ec8451a2-3f04-4cd7-ab49-24cdfcd0600b",
   "metadata": {},
   "outputs": [],
   "source": [
    "# EJERCICIO 6"
   ]
  },
  {
   "cell_type": "code",
   "execution_count": null,
   "id": "f6eec195-56c0-4f53-a079-d92c44de53ca",
   "metadata": {},
   "outputs": [],
   "source": [
    "pip install geopandas"
   ]
  },
  {
   "cell_type": "code",
   "execution_count": null,
   "id": "da0989cc-f009-4e8e-b4a0-2fc6644f2756",
   "metadata": {},
   "outputs": [],
   "source": [
    "import geopandas as gpd\n",
    "import matplotlib.pyplot as plt\n",
    "\n",
    "# Crear un GeoDataFrame a partir de los datos\n",
    "gdf = gpd.GeoDataFrame(data, geometry=gpd.points_from_xy(data['LONGITUDE'], data['LATITUDE']))\n",
    "\n",
    "# Cargar los datos del archivo descargado\n",
    "world = gpd.read_file('/home/jovyan/work/110m_cultural/ne_110m_admin_0_countries.shp')\n",
    "# /home/johancm/repos-ucc/ucc-data-mining/students/jcmv-2k24s1/taller-ml-y-dl/110m_cultural/ne_110m_admin_0_countries.shp\n",
    "\n",
    "# Plotear los datos en un mapa\n",
    "# world = gpd.read_file(gpd.datasets.get_path('naturalearth_lowres'))\n",
    "ax = world.boundary.plot(figsize=(12, 8))\n",
    "gdf.plot(ax=ax, marker='o', color='red', markersize=5)\n",
    "plt.title(\"Ocurrencias geográficas\")\n",
    "plt.show()"
   ]
  },
  {
   "cell_type": "code",
   "execution_count": null,
   "id": "937cc49c-7889-41f9-a313-f8ca127d9d1c",
   "metadata": {},
   "outputs": [],
   "source": [
    "# EJERCICIO 7"
   ]
  },
  {
   "cell_type": "code",
   "execution_count": null,
   "id": "664ea9f4-e00a-4e3a-91ad-54cadea55a67",
   "metadata": {},
   "outputs": [],
   "source": [
    "from sklearn.ensemble import IsolationForest\n",
    "\n",
    "# Entrenar un modelo de Isolation Forest\n",
    "iso_forest = IsolationForest(random_state=42)\n",
    "iso_forest.fit(X_train)\n",
    "\n",
    "# Predecir anomalías en el conjunto de prueba\n",
    "y_pred_anomaly = iso_forest.predict(X_test)\n",
    "\n",
    "# Contar el número de anomalías\n",
    "num_anomalies = sum(y_pred_anomaly == -1)\n",
    "print(f\"Número de anomalías: {num_anomalies}\")"
   ]
  },
  {
   "cell_type": "code",
   "execution_count": null,
   "id": "d24e5faa-671f-45d7-bb19-46056bc3a00f",
   "metadata": {},
   "outputs": [],
   "source": [
    "# EJERCICIO 8"
   ]
  },
  {
   "cell_type": "code",
   "execution_count": null,
   "id": "ed71d5f2-4f09-46ed-bfc5-482ca43d7ee6",
   "metadata": {},
   "outputs": [],
   "source": [
    "pip install mlxtend"
   ]
  },
  {
   "cell_type": "code",
   "execution_count": 30,
   "id": "864be31a-709f-470e-9ac2-0c58cceb0679",
   "metadata": {},
   "outputs": [
    {
     "name": "stdout",
     "output_type": "stream",
     "text": [
      "                                          antecedents  \\\n",
      "0                               (DESCRIPTION_ASSAULT)   \n",
      "1                      (SECONDARY DESCRIPTION_SIMPLE)   \n",
      "2     (SECONDARY DESCRIPTION_DOMESTIC BATTERY SIMPLE)   \n",
      "3                               (DESCRIPTION_BATTERY)   \n",
      "4                               (DESCRIPTION_BATTERY)   \n",
      "5                      (SECONDARY DESCRIPTION_SIMPLE)   \n",
      "6                    (LOCATION DESCRIPTION_APARTMENT)   \n",
      "7                               (DESCRIPTION_BATTERY)   \n",
      "8                  (SECONDARY DESCRIPTION_TO VEHICLE)   \n",
      "9                       (DESCRIPTION_CRIMINAL DAMAGE)   \n",
      "10                  (DESCRIPTION_MOTOR VEHICLE THEFT)   \n",
      "11                 (SECONDARY DESCRIPTION_AUTOMOBILE)   \n",
      "12                  (DESCRIPTION_MOTOR VEHICLE THEFT)   \n",
      "13                      (LOCATION DESCRIPTION_STREET)   \n",
      "14                                (DESCRIPTION_THEFT)   \n",
      "15             (SECONDARY DESCRIPTION_$500 AND UNDER)   \n",
      "16                                (DESCRIPTION_THEFT)   \n",
      "17                  (SECONDARY DESCRIPTION_OVER $500)   \n",
      "18                 (SECONDARY DESCRIPTION_AUTOMOBILE)   \n",
      "19                      (LOCATION DESCRIPTION_STREET)   \n",
      "20  (DESCRIPTION_MOTOR VEHICLE THEFT, SECONDARY DE...   \n",
      "21  (DESCRIPTION_MOTOR VEHICLE THEFT, LOCATION DES...   \n",
      "22  (SECONDARY DESCRIPTION_AUTOMOBILE, LOCATION DE...   \n",
      "23                  (DESCRIPTION_MOTOR VEHICLE THEFT)   \n",
      "24                 (SECONDARY DESCRIPTION_AUTOMOBILE)   \n",
      "25                      (LOCATION DESCRIPTION_STREET)   \n",
      "\n",
      "                                          consequents  antecedent support  \\\n",
      "0                      (SECONDARY DESCRIPTION_SIMPLE)            0.088075   \n",
      "1                               (DESCRIPTION_ASSAULT)            0.116730   \n",
      "2                               (DESCRIPTION_BATTERY)            0.076971   \n",
      "3     (SECONDARY DESCRIPTION_DOMESTIC BATTERY SIMPLE)            0.172112   \n",
      "4                      (SECONDARY DESCRIPTION_SIMPLE)            0.172112   \n",
      "5                               (DESCRIPTION_BATTERY)            0.116730   \n",
      "6                               (DESCRIPTION_BATTERY)            0.187827   \n",
      "7                    (LOCATION DESCRIPTION_APARTMENT)            0.172112   \n",
      "8                       (DESCRIPTION_CRIMINAL DAMAGE)            0.067228   \n",
      "9                  (SECONDARY DESCRIPTION_TO VEHICLE)            0.115455   \n",
      "10                 (SECONDARY DESCRIPTION_AUTOMOBILE)            0.106635   \n",
      "11                  (DESCRIPTION_MOTOR VEHICLE THEFT)            0.072306   \n",
      "12                      (LOCATION DESCRIPTION_STREET)            0.106635   \n",
      "13                  (DESCRIPTION_MOTOR VEHICLE THEFT)            0.293917   \n",
      "14             (SECONDARY DESCRIPTION_$500 AND UNDER)            0.221460   \n",
      "15                                (DESCRIPTION_THEFT)            0.072735   \n",
      "16                  (SECONDARY DESCRIPTION_OVER $500)            0.221460   \n",
      "17                                (DESCRIPTION_THEFT)            0.077880   \n",
      "18                      (LOCATION DESCRIPTION_STREET)            0.072306   \n",
      "19                 (SECONDARY DESCRIPTION_AUTOMOBILE)            0.293917   \n",
      "20                      (LOCATION DESCRIPTION_STREET)            0.072306   \n",
      "21                 (SECONDARY DESCRIPTION_AUTOMOBILE)            0.079337   \n",
      "22                  (DESCRIPTION_MOTOR VEHICLE THEFT)            0.053708   \n",
      "23  (SECONDARY DESCRIPTION_AUTOMOBILE, LOCATION DE...            0.106635   \n",
      "24  (DESCRIPTION_MOTOR VEHICLE THEFT, LOCATION DES...            0.072306   \n",
      "25  (DESCRIPTION_MOTOR VEHICLE THEFT, SECONDARY DE...            0.293917   \n",
      "\n",
      "    consequent support   support  confidence      lift  leverage  conviction  \\\n",
      "0             0.116730  0.056313    0.639372  5.477337  0.046032    2.449251   \n",
      "1             0.088075  0.056313    0.482418  5.477337  0.046032    1.761895   \n",
      "2             0.172112  0.076971    1.000000  5.810177  0.063724         inf   \n",
      "3             0.076971  0.076971    0.447217  5.810177  0.063724    1.669784   \n",
      "4             0.116730  0.059119    0.343491  2.942602  0.039028    1.345404   \n",
      "5             0.172112  0.059119    0.506457  2.942602  0.039028    1.677437   \n",
      "6             0.172112  0.056769    0.302241  1.756073  0.024442    1.186496   \n",
      "7             0.187827  0.056769    0.329838  1.756073  0.024442    1.211905   \n",
      "8             0.115455  0.064808    0.964011  8.349670  0.057046   24.577918   \n",
      "9             0.067228  0.064808    0.561328  8.349670  0.057046    2.126357   \n",
      "10            0.072306  0.072306    0.678072  9.377782  0.064596    2.881679   \n",
      "11            0.106635  0.072306    1.000000  9.377782  0.064596         inf   \n",
      "12            0.293917  0.079337    0.744001  2.531333  0.047995    2.758153   \n",
      "13            0.106635  0.079337    0.269929  2.531333  0.047995    1.223668   \n",
      "14            0.072735  0.072735    0.328435  4.515489  0.056627    1.380752   \n",
      "15            0.221460  0.072735    1.000000  4.515489  0.056627         inf   \n",
      "16            0.077880  0.077880    0.351664  4.515489  0.060632    1.422288   \n",
      "17            0.221460  0.077880    1.000000  4.515489  0.060632         inf   \n",
      "18            0.293917  0.053708    0.742784  2.527190  0.032456    2.745096   \n",
      "19            0.072306  0.053708    0.182732  2.527190  0.032456    1.135115   \n",
      "20            0.293917  0.053708    0.742784  2.527190  0.032456    2.745096   \n",
      "21            0.072306  0.053708    0.676962  9.362434  0.047971    2.871780   \n",
      "22            0.106635  0.053708    1.000000  9.377782  0.047981         inf   \n",
      "23            0.053708  0.053708    0.503661  9.377782  0.047981    1.906543   \n",
      "24            0.079337  0.053708    0.742784  9.362434  0.047971    3.579337   \n",
      "25            0.072306  0.053708    0.182732  2.527190  0.032456    1.135115   \n",
      "\n",
      "    zhangs_metric  \n",
      "0        0.896378  \n",
      "1        0.925459  \n",
      "2        0.896926  \n",
      "3        1.000000  \n",
      "4        0.797408  \n",
      "5        0.747410  \n",
      "6        0.530118  \n",
      "7        0.520055  \n",
      "8        0.943676  \n",
      "9        0.995127  \n",
      "10       1.000000  \n",
      "11       0.962996  \n",
      "12       0.677160  \n",
      "13       0.856771  \n",
      "14       1.000000  \n",
      "15       0.839609  \n",
      "16       1.000000  \n",
      "17       0.844293  \n",
      "18       0.651404  \n",
      "19       0.855853  \n",
      "20       0.651404  \n",
      "21       0.970159  \n",
      "22       0.944069  \n",
      "23       1.000000  \n",
      "24       0.962807  \n",
      "25       0.855853  \n"
     ]
    }
   ],
   "source": [
    "from mlxtend.frequent_patterns import apriori, association_rules\n",
    "\n",
    "# Convertir los datos categóricos a formato de conjuntos\n",
    "categorical_columns = ['DESCRIPTION', 'SECONDARY DESCRIPTION', 'LOCATION DESCRIPTION']\n",
    "data_categorical = data[categorical_columns]\n",
    "data_categorical_one_hot = pd.get_dummies(data_categorical)\n",
    "\n",
    "# Aplicar el algoritmo de Apriori\n",
    "frequent_itemsets = apriori(data_categorical_one_hot, min_support=0.05, use_colnames=True)\n",
    "\n",
    "# Extraer reglas de asociación\n",
    "rules = association_rules(frequent_itemsets, metric='lift', min_threshold=1.2)\n",
    "\n",
    "print(rules)"
   ]
  },
  {
   "cell_type": "code",
   "execution_count": null,
   "id": "4d22e3ca-52ec-41f0-abd6-0039d21432ac",
   "metadata": {},
   "outputs": [],
   "source": [
    "# EJERCICIO 9"
   ]
  },
  {
   "cell_type": "code",
   "execution_count": null,
   "id": "d6df8159-2256-4639-be5b-e5ac34229931",
   "metadata": {},
   "outputs": [],
   "source": [
    "pip install shap"
   ]
  },
  {
   "cell_type": "code",
   "execution_count": null,
   "id": "fbe578ec-1797-4844-bea7-a0696d0a2171",
   "metadata": {},
   "outputs": [
    {
     "name": "stderr",
     "output_type": "stream",
     "text": [
      "/opt/conda/lib/python3.11/site-packages/tqdm/auto.py:21: TqdmWarning: IProgress not found. Please update jupyter and ipywidgets. See https://ipywidgets.readthedocs.io/en/stable/user_install.html\n",
      "  from .autonotebook import tqdm as notebook_tqdm\n"
     ]
    }
   ],
   "source": [
    "import shap\n",
    "from sklearn.ensemble import RandomForestClassifier\n",
    "\n",
    "# Entrenar el modelo (usando Random Forest como ejemplo)\n",
    "clf = RandomForestClassifier(random_state=42)\n",
    "clf.fit(X_train, y_arrest_train)\n",
    "\n",
    "# Calcular valores SHAP\n",
    "explainer = shap.TreeExplainer(clf)\n",
    "shap_values = explainer.shap_values(X_test)\n",
    "\n",
    "# Visualizar la importancia de las características\n",
    "shap.summary_plot(shap_values[1], X_test, plot_type='bar')"
   ]
  },
  {
   "cell_type": "code",
   "execution_count": null,
   "id": "bd29c195-6453-43fb-862d-236b89669320",
   "metadata": {},
   "outputs": [],
   "source": [
    "# EJERCICIO 10"
   ]
  },
  {
   "cell_type": "code",
   "execution_count": null,
   "id": "66400f78-d971-4c71-ad5f-c524ceb4d792",
   "metadata": {},
   "outputs": [],
   "source": [
    "pip install torch"
   ]
  },
  {
   "cell_type": "code",
   "execution_count": null,
   "id": "5bbb7bed-5727-49e4-9641-621d5720709a",
   "metadata": {},
   "outputs": [],
   "source": [
    "import torch\n",
    "import torch.nn as nn\n",
    "import torch.optim as optim\n",
    "from sklearn.preprocessing import StandardScaler\n",
    "\n",
    "# Definir la red neuronal\n",
    "class Net(nn.Module):\n",
    "    def __init__(self):\n",
    "        super(Net, self).__init__()\n",
    "        self.fc1 = nn.Linear(X_train.shape[1], 64)\n",
    "        self.fc2 = nn.Linear(64, 1)\n",
    "        \n",
    "    def forward(self, x):\n",
    "        x = torch.relu(self.fc1(x))\n",
    "        x = torch.sigmoid(self.fc2(x))\n",
    "        return x\n",
    "        \n",
    "# Convertir los datos a tensores\n",
    "X_train_torch = torch.tensor(X_train, dtype=torch.float32)\n",
    "y_domestic_train_torch = torch.tensor(y_domestic_train.values, dtype=torch.float32)\n",
    "X_test_torch = torch.tensor(X_test, dtype=torch.float32)\n",
    "y_domestic_test_torch = torch.tensor(y_domestic_test.values, dtype=torch.float32)\n",
    "\n",
    "# Crear la red y definir la función de pérdida y el optimizador\n",
    "net = Net()\n",
    "criterion = nn.BCELoss()\n",
    "optimizer = optim.Adam(net.parameters(), lr=0.001)\n",
    "\n",
    "# Entrenar la red neuronal\n",
    "num_epochs = 100\n",
    "for epoch in range(num_epochs):\n",
    "    net.train()\n",
    "    optimizer.zero_grad()\n",
    "    outputs = net(X_train_torch)\n",
    "    loss = criterion(outputs, y_domestic_train_torch.view(-1, 1))\n",
    "    loss.backward()\n",
    "    optimizer.step()\n",
    "    \n",
    "    if epoch % 10 == 0:\n",
    "        print(f\"Epoch {epoch + 1}, Loss: {loss.item()}\")\n",
    "\n",
    "# Evaluar la red neuronal\n",
    "net.eval()\n",
    "with torch.no_grad():\n",
    " outputs_test = net(X_test_torch)\n",
    " outputs_test = outputs_test.view(-1).round()\n",
    " accuracy = (outputs_test == y_domestic_test_torch).float().mean()\n",
    " print(f\"Accuracy: {accuracy.item()}\")"
   ]
  },
  {
   "cell_type": "code",
   "execution_count": null,
   "id": "db12964b-eb8f-44b9-b26b-f286ff9b7bd7",
   "metadata": {},
   "outputs": [],
   "source": [
    "# EJERCICIO 11"
   ]
  },
  {
   "cell_type": "code",
   "execution_count": null,
   "id": "b69f643b-9e5f-4ade-b2fa-eade864c56a4",
   "metadata": {},
   "outputs": [],
   "source": [
    "from sklearn.ensemble import RandomForestClassifier\n",
    "from sklearn.svm import SVC\n",
    "from sklearn.linear_model import LogisticRegression\n",
    "from sklearn.metrics import classification_report\n",
    "\n",
    "# Modelos de clasificación\n",
    "models = {\n",
    " 'Random Forest': RandomForestClassifier(random_state=42),\n",
    " 'SVM': SVC(),\n",
    " 'Logistic Regression': LogisticRegression(random_state=42)\n",
    "}\n",
    "# Entrenar y evaluar los modelos\n",
    "for model_name, model in models.items():\n",
    "    model.fit(X_train, y_arrest_train)\n",
    "    y_pred = model.predict(X_test)\n",
    "    print(f\"--- {model_name} ---\")\n",
    "    print(classification_report(y_arrest_test, y_pred))\n"
   ]
  },
  {
   "cell_type": "code",
   "execution_count": null,
   "id": "df433756-2b2c-4f49-b027-30b1e94c801c",
   "metadata": {},
   "outputs": [],
   "source": [
    "# EJERCICIO 12"
   ]
  },
  {
   "cell_type": "code",
   "execution_count": null,
   "id": "4c5b943d-bb19-41be-bdf8-8ac299fc4d10",
   "metadata": {},
   "outputs": [],
   "source": [
    "from sklearn.cluster import KMeans\n",
    "from sklearn.decomposition import PCA\n",
    "import matplotlib.pyplot as plt\n",
    "\n",
    "# Reducción de dimensionalidad con PCA\n",
    "pca = PCA(n_components=2)\n",
    "X_pca = pca.fit_transform(X_scaled)\n",
    "\n",
    "# Clustering con KMeans\n",
    "kmeans = KMeans(n_clusters=5, random_state=42)\n",
    "clusters = kmeans.fit_predict(X_pca)\n",
    "\n",
    "# Visualizar los clusters\n",
    "plt.scatter(X_pca[:, 0], X_pca[:, 1], c=clusters, cmap='viridis')\n",
    "plt.title('Clusters KMeans')\n",
    "plt.show()"
   ]
  },
  {
   "cell_type": "code",
   "execution_count": null,
   "id": "1206c42d-ccf2-4528-9896-b4aab3038bfe",
   "metadata": {},
   "outputs": [],
   "source": [
    "# EJERCICIO 13"
   ]
  },
  {
   "cell_type": "code",
   "execution_count": null,
   "id": "9c4eb64a-56e0-4358-919a-47c8d6e210dd",
   "metadata": {},
   "outputs": [],
   "source": [
    "import seaborn as sns\n",
    "import matplotlib.pyplot as plt\n",
    "\n",
    "# Calcular matriz de correlación\n",
    "corr_matrix = data.corr()\n",
    "\n",
    "# Visualizar la matriz de correlación\n",
    "plt.figure(figsize=(12, 8))\n",
    "sns.heatmap(corr_matrix, annot=True, cmap='coolwarm')\n",
    "plt.title(\"Matriz de correlación\")\n",
    "plt.show()"
   ]
  },
  {
   "cell_type": "code",
   "execution_count": null,
   "id": "b25a4e71-33be-4380-9c70-f5c466a66f67",
   "metadata": {},
   "outputs": [],
   "source": [
    "# EJERCICIO 14"
   ]
  },
  {
   "cell_type": "code",
   "execution_count": null,
   "id": "001a6970-5114-4218-a8b5-718eea7841f8",
   "metadata": {},
   "outputs": [],
   "source": [
    "from imblearn.over_sampling import SMOTE\n",
    "\n",
    "# Manejar el desequilibrio de datos en 'ARREST'\n",
    "smote = SMOTE(random_state=42)\n",
    "X_resampled, y_arrest_resampled = smote.fit_resample(X_train, y_arrest_train)\n",
    "\n",
    "# Entrenar un modelo de clasificación de Random Forest con datos reequilibrados\n",
    "clf = Random ForestClassifier(random_state=42)\n",
    "clf.fit(X_resampled, y_arrest_resampled)\n",
    "\n",
    "# Evaluar el modelo\n",
    "y_pred = clf.predict(X_test)\n",
    "print(classification_report(y_arrest_test, y_pred))"
   ]
  },
  {
   "cell_type": "code",
   "execution_count": null,
   "id": "bb8ac0cc-7ac2-4dd0-915e-1102885c4b64",
   "metadata": {},
   "outputs": [],
   "source": [
    "# EJERCICIO 15"
   ]
  },
  {
   "cell_type": "code",
   "execution_count": null,
   "id": "66015d75-9114-425b-8041-193a569cc3c9",
   "metadata": {},
   "outputs": [],
   "source": [
    "from sklearn.tree import DecisionTreeClassifier\n",
    "from sklearn.ensemble import Random ForestClassifier\n",
    "from sklearn.metrics import classification_report\n",
    "\n",
    "# Entrenar un modelo de árbol de decisión\n",
    "dtree = DecisionTreeClassifier(random_state=42)\n",
    "dtree.fit(X_train, y_arrest_train)\n",
    "\n",
    "# Entrenar un modelo de bosque aleatorio\n",
    "rforest = Random ForestClassifier(random_state=42)\n",
    "rforest.fit(X_train, y_arrest_train)\n",
    "\n",
    "# Evaluar el árbol de decisión\n",
    "y_pred_tree = dtree.predict(X_test)\n",
    "print(\"Clasificación con Árbol de Decisión:\")\n",
    "print(classification_report(y_arrest_test, y_pred_tree))\n",
    "\n",
    "# Evaluar el bosque aleatorio\n",
    "y_pred_forest = rforest.predict(X_test)\n",
    "print(\"Clasificación con Bosque Aleatorio:\")\n",
    "print(classification_report(y_arrest_test, y_pred_forest))"
   ]
  },
  {
   "cell_type": "code",
   "execution_count": null,
   "id": "cd866fd1-a898-436d-8233-93e6c4a4d251",
   "metadata": {},
   "outputs": [],
   "source": [
    "# EJERCICIO 16"
   ]
  },
  {
   "cell_type": "code",
   "execution_count": null,
   "id": "c42156e0-f962-463d-a527-021970169324",
   "metadata": {},
   "outputs": [],
   "source": [
    "from sklearn.feature_extraction.text import CountVectorizer, TfidfVectorizer\n",
    "from sklearn.naive_bayes import MultinomialNB\n",
    "from sklearn.model_selection import train_test_split\n",
    "from sklearn.metrics import classification_report\n",
    "\n",
    "# Vectorizar las descripciones\n",
    "vectorizer = CountVectorizer()\n",
    "X_text = vectorizer.fit_transform(data['PRIMARY DESCRIPTION'])\n",
    "\n",
    "# Dividir los datos en conjuntos de entrenamiento y prueba\n",
    "X_text_train, X_text_test, y_arrest_train, y_arrest_test = train_test_split(X_text, y_arrest,\n",
    "test_size=0.2, random_state=42)\n",
    "\n",
    "# Entrenar un modelo Naive Bayes\n",
    "nb_model = MultinomialNB()\n",
    "nb_model.fit(X_text_train, y_arrest_train)\n",
    "\n",
    "# Evaluar el modelo\n",
    "y_pred = nb_model.predict(X_text_test)\n",
    "print(classification_report(y_arrest_test, y_pred))"
   ]
  },
  {
   "cell_type": "code",
   "execution_count": null,
   "id": "5c46225d-ebf2-4e09-b20a-db2d2ddb00d7",
   "metadata": {},
   "outputs": [],
   "source": [
    "# EJERCICIO 17"
   ]
  },
  {
   "cell_type": "code",
   "execution_count": null,
   "id": "f7cd42fc-1229-4cfa-9051-c5d8f3a30fe8",
   "metadata": {},
   "outputs": [],
   "source": [
    "from sklearn.decomposition import PCA\n",
    "import matplotlib.pyplot as plt\n",
    "\n",
    "# Reducción de dimensionalidad con PCA\n",
    "pca = PCA(n_components=2)\n",
    "X_pca = pca.fit_transform(X_scaled)\n",
    "\n",
    "# Visualizar los datos reducidos\n",
    "plt.scatter(X_pca[:, 0], X_pca[:, 1], c=data['ARREST'].apply(lambda x: 0 if x == 'N' else 1), cmap='coolwarm')\n",
    "plt.title('Reducción de dimensionalidad con PCA')\n",
    "plt.xlabel('Componente principal 1')\n",
    "plt.ylabel('Componente principal 2')\n",
    "plt.show()"
   ]
  },
  {
   "cell_type": "code",
   "execution_count": null,
   "id": "5dbbc166-c05a-4a1c-8380-c8a4c79f30e0",
   "metadata": {},
   "outputs": [],
   "source": [
    "# EJERCICIO 18"
   ]
  },
  {
   "cell_type": "code",
   "execution_count": null,
   "id": "f2c732f2-c846-4084-8e44-6379ebe9e908",
   "metadata": {},
   "outputs": [],
   "source": [
    "pip install flask"
   ]
  },
  {
   "cell_type": "code",
   "execution_count": null,
   "id": "abefbe22-c25b-4879-9211-3e0b05dab9a2",
   "metadata": {},
   "outputs": [],
   "source": [
    "from flask import Flask, request, jsonify\n",
    "import pandas as pd\n",
    "from sklearn.ensemble import Random ForestClassifier\n",
    "from sklearn.preprocessing import LabelEncoder, StandardScaler\n",
    "import joblib\n",
    "\n",
    "app = Flask(__name__)\n",
    "\n",
    "# Cargar el modelo entrenado y otros recursos\n",
    "model = joblib.load('model_arrest.pkl')\n",
    "scaler = joblib.load('scaler.pkl')\n",
    "label_encoders = joblib.load('label_encoders.pkl')\n",
    "@app.route('/predict', methods=['POST'])\n",
    "\n",
    "def predict():\n",
    "    # Obtener los datos de entrada en formato JSON\n",
    "    data = request.get_json()\n",
    "    # Convertir a DataFrame\n",
    "    df = pd.DataFrame([data])\n",
    "    # Preprocesar los datos\n",
    "    df = preprocess_data(df, scaler, label_encoders)\n",
    "    \n",
    "    # Hacer predicción\n",
    "    prediction = model.predict(df)\n",
    "    \n",
    "    # Devolver la predicción como JSON\n",
    "    return jsonify({'prediction': prediction[0]})\n",
    "    \n",
    "def preprocess_data(df, scaler, label_encoders):\n",
    "    # Convertir características categóricas a numéricas\n",
    "    for col, le in label_encoders.items():\n",
    "    df[col] = le.transform(df[col])\n",
    "    \n",
    "    # Escalar características numéricas\n",
    "    df_scaled = scaler.transform(df)\n",
    "    return df_scaled\n",
    "    \n",
    "if __name__ == '__main__':\n",
    "    app.run()\n"
   ]
  },
  {
   "cell_type": "code",
   "execution_count": null,
   "id": "022cde8f-9fff-4400-a9cb-d935b4734635",
   "metadata": {},
   "outputs": [],
   "source": [
    "# Ejercici0 19"
   ]
  },
  {
   "cell_type": "code",
   "execution_count": null,
   "id": "0ee8af83-afd8-46b3-92c5-f468402f8e20",
   "metadata": {},
   "outputs": [],
   "source": [
    "\n",
    "from sklearn.model_selection import GridSearchCV\n",
    "from sklearn.ensemble import RandomForestClassifier\n",
    "\n",
    "# Definir el modelo\n",
    "clf = RandomForestClassifier(random_state=42)\n",
    "\n",
    "# Definir los hiperparámetros a optimizar\n",
    "param_grid = {\n",
    " 'n_estimators': [100, 200, 300],\n",
    " 'max_depth': [None, 10, 20, 30],\n",
    " 'min_samples_split': [2, 5, 10]\n",
    "}\n",
    "\n",
    "# Optimización de hiperparámetros con GridSearchCV\n",
    "grid_search = GridSearchCV(clf, param_grid, cv=5, scoring='accuracy')\n",
    "grid_search.fit(X_train, y_arrest_train)\n",
    "\n",
    "# Mostrar los mejores hiperparámetros\n",
    "print(\"Mejores hiperparámetros:\", grid_search.best_params_)\n",
    "\n",
    "# Evaluar el modelo con los mejores hiperparámetros\n",
    "y_pred = grid_search.best_estimator_.predict(X_test)\n",
    "print(classification_report(y_arrest_test, y_pred))\n"
   ]
  },
  {
   "cell_type": "code",
   "execution_count": null,
   "id": "a1dbd2ed-fcbb-4ab7-ae6a-3928d0567828",
   "metadata": {},
   "outputs": [],
   "source": [
    "# EJERCICIO 20"
   ]
  },
  {
   "cell_type": "code",
   "execution_count": null,
   "id": "2020b79b-6402-4c60-89e9-ee7ae7fc710d",
   "metadata": {},
   "outputs": [],
   "source": [
    "from fbprophet import Prophet\n",
    "import pandas as pd\n",
    "\n",
    "# Preprocesar los datos para Prophet\n",
    "data['ds'] = data['DATE OF OCCURRENCE']\n",
    "data['y'] = data.groupby(data['DATE OF OCCURRENCE'].dt.date).size().values\n",
    "\n",
    "# Crear y entrenar el modelo Prophet\n",
    "model = Prophet()\n",
    "model.fit(data)\n",
    "\n",
    "# Hacer pronósticos futuros\n",
    "future = model.make_future_dataframe(periods=30)\n",
    "forecast = model.predict(future)\n",
    "\n",
    "# Visualizar el pronóstico\n",
    "fig = model.plot(forecast)\n",
    "plt.show()"
   ]
  },
  {
   "cell_type": "code",
   "execution_count": null,
   "id": "312149cb-0fe2-4a0e-996f-f8d51badd4af",
   "metadata": {},
   "outputs": [],
   "source": []
  }
 ],
 "metadata": {
  "kernelspec": {
   "display_name": "Python 3 (ipykernel)",
   "language": "python",
   "name": "python3"
  },
  "language_info": {
   "codemirror_mode": {
    "name": "ipython",
    "version": 3
   },
   "file_extension": ".py",
   "mimetype": "text/x-python",
   "name": "python",
   "nbconvert_exporter": "python",
   "pygments_lexer": "ipython3",
   "version": "3.11.6"
  }
 },
 "nbformat": 4,
 "nbformat_minor": 5
}
