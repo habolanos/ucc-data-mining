{
 "cells": [
  {
   "cell_type": "code",
   "execution_count": 1,
   "id": "5de38185-92bd-4d3d-8967-7c03aa7d4ed6",
   "metadata": {},
   "outputs": [
    {
     "name": "stdout",
     "output_type": "stream",
     "text": [
      "Requirement already satisfied: pandas in /opt/conda/lib/python3.11/site-packages (2.2.2)\n",
      "Requirement already satisfied: numpy>=1.23.2 in /opt/conda/lib/python3.11/site-packages (from pandas) (1.26.4)\n",
      "Requirement already satisfied: python-dateutil>=2.8.2 in /opt/conda/lib/python3.11/site-packages (from pandas) (2.8.2)\n",
      "Requirement already satisfied: pytz>=2020.1 in /opt/conda/lib/python3.11/site-packages (from pandas) (2023.3.post1)\n",
      "Requirement already satisfied: tzdata>=2022.7 in /opt/conda/lib/python3.11/site-packages (from pandas) (2024.1)\n",
      "Requirement already satisfied: six>=1.5 in /opt/conda/lib/python3.11/site-packages (from python-dateutil>=2.8.2->pandas) (1.16.0)\n",
      "Note: you may need to restart the kernel to use updated packages.\n"
     ]
    }
   ],
   "source": [
    "pip install pandas"
   ]
  },
  {
   "cell_type": "code",
   "execution_count": 22,
   "id": "30032307-646f-4646-9b5b-84c5e3329401",
   "metadata": {},
   "outputs": [
    {
     "name": "stdout",
     "output_type": "stream",
     "text": [
      "  (0, 0)\t833.0\n",
      "  (0, 1)\t23.0\n",
      "  (0, 2)\t1149062.0\n",
      "  (0, 3)\t1859830.0\n",
      "  (0, 4)\t41.771296232\n",
      "  (0, 5)\t-87.729149311\n",
      "  (0, 123661)\t1.0\n",
      "  (0, 341115)\t1.0\n",
      "  (0, 399843)\t1.0\n",
      "  (0, 412179)\t1.0\n",
      "  (0, 412442)\t1.0\n",
      "  (0, 412472)\t1.0\n",
      "  (0, 412780)\t1.0\n",
      "  (0, 412895)\t1.0\n",
      "  (0, 412897)\t1.0\n",
      "  (0, 412903)\t1.0\n",
      "  (0, 446956)\t1.0\n",
      "  (1, 0)\t613.0\n",
      "  (1, 1)\t17.0\n",
      "  (1, 2)\t1170922.0\n",
      "  (1, 3)\t1849120.0\n",
      "  (1, 4)\t41.74145726\n",
      "  (1, 5)\t-87.649330096\n",
      "  (1, 134745)\t1.0\n",
      "  (1, 346454)\t1.0\n",
      "  :\t:\n",
      "  (258731, 412277)\t1.0\n",
      "  (258731, 412469)\t1.0\n",
      "  (258731, 412738)\t1.0\n",
      "  (258731, 412879)\t1.0\n",
      "  (258731, 412895)\t1.0\n",
      "  (258731, 412896)\t1.0\n",
      "  (258731, 412915)\t1.0\n",
      "  (258731, 423149)\t1.0\n",
      "  (258732, 0)\t1915.0\n",
      "  (258732, 1)\t46.0\n",
      "  (258732, 2)\t1169360.0\n",
      "  (258732, 3)\t1928032.0\n",
      "  (258732, 4)\t41.958032583\n",
      "  (258732, 5)\t-87.652761754\n",
      "  (258732, 254757)\t1.0\n",
      "  (258732, 280359)\t1.0\n",
      "  (258732, 399357)\t1.0\n",
      "  (258732, 412200)\t1.0\n",
      "  (258732, 412443)\t1.0\n",
      "  (258732, 412736)\t1.0\n",
      "  (258732, 412876)\t1.0\n",
      "  (258732, 412894)\t1.0\n",
      "  (258732, 412896)\t1.0\n",
      "  (258732, 412904)\t1.0\n",
      "  (258732, 524933)\t1.0\n"
     ]
    }
   ],
   "source": [
    "from sklearn.impute import SimpleImputer\n",
    "from sklearn.preprocessing import OneHotEncoder\n",
    "from sklearn.compose import ColumnTransformer\n",
    "from sklearn.pipeline import Pipeline\n",
    "\n",
    "# Define las columnas numéricas y categóricas\n",
    "numeric_features = data.select_dtypes(include=['int', 'float']).columns\n",
    "categorical_features = data.select_dtypes(include=['object']).columns\n",
    "\n",
    "# Define los transformadores para cada tipo de variable\n",
    "numeric_transformer = SimpleImputer(strategy='mean')\n",
    "categorical_transformer = Pipeline(steps=[\n",
    "    ('imputer', SimpleImputer(strategy='most_frequent')),\n",
    "    ('onehot', OneHotEncoder(handle_unknown='ignore'))\n",
    "])\n",
    "\n",
    "# Combina los transformadores en un preprocesador\n",
    "preprocessor = ColumnTransformer(\n",
    "    transformers=[\n",
    "        ('num', numeric_transformer, numeric_features),\n",
    "        ('cat', categorical_transformer, categorical_features)\n",
    "    ])\n",
    "\n",
    "# Aplica el preprocesamiento a tus datos\n",
    "data_processed = preprocessor.fit_transform(data)\n",
    "\n",
    "# Muestra el resultado\n",
    "print(data_processed)\n"
   ]
  },
  {
   "cell_type": "code",
   "execution_count": null,
   "id": "4778b1fb-3b78-4e68-a60b-706d3322cba0",
   "metadata": {},
   "outputs": [],
   "source": []
  }
 ],
 "metadata": {
  "kernelspec": {
   "display_name": "Python 3 (ipykernel)",
   "language": "python",
   "name": "python3"
  },
  "language_info": {
   "codemirror_mode": {
    "name": "ipython",
    "version": 3
   },
   "file_extension": ".py",
   "mimetype": "text/x-python",
   "name": "python",
   "nbconvert_exporter": "python",
   "pygments_lexer": "ipython3",
   "version": "3.11.6"
  }
 },
 "nbformat": 4,
 "nbformat_minor": 5
}
